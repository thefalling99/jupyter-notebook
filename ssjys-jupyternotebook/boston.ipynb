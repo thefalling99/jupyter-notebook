{
 "cells": [
  {
   "cell_type": "code",
   "execution_count": 16,
   "id": "8279348b",
   "metadata": {},
   "outputs": [
    {
     "name": "stdout",
     "output_type": "stream",
     "text": [
      "[ 6.75105171 22.26253247 22.80297978 18.68760185 15.50430961 24.0596728\n",
      " 14.16628498 22.67877581 26.61019372 28.94561662 24.73498578 22.19468078\n",
      "  4.46119795 32.15886763 11.73665718 14.01150551 20.42840544 21.23937175\n",
      " 25.05709394 26.61791184 13.74542537 19.82883139 38.16133977 18.65338787\n",
      " 21.15385985 32.73334345]\n",
      "[10.4 22.  11.9 16.  21.9 20.5 10.9 25.  22.8 22.8 24.6 22.5  8.4 27.9\n",
      " 11.8 14.5 19.2 19.7 23.8 22.  14.  20.4 41.7 18.4 21.  33.1]\n",
      "0.7471877764277886\n"
     ]
    }
   ],
   "source": [
    "from sklearn.model_selection import train_test_split\n",
    "from sklearn import linear_model\n",
    "from sklearn import datasets\n",
    "\n",
    "boston=datasets.load_boston()\n",
    "x=boston.data\n",
    "y=boston.target\n",
    "\n",
    "x_train,x_test,y_train,y_test=train_test_split(x,y,test_size=0.05)\n",
    "\n",
    "reg = linear_model.LinearRegression()\n",
    "\n",
    "reg.fit(x_train,y_train)\n",
    "\n",
    "print(reg.predict(x_test))\n",
    "print(y_test)\n",
    "\n",
    "print(reg.score(x_test,y_test))"
   ]
  },
  {
   "cell_type": "code",
   "execution_count": null,
   "id": "27090b3e",
   "metadata": {},
   "outputs": [],
   "source": []
  },
  {
   "cell_type": "code",
   "execution_count": null,
   "id": "7346eb50",
   "metadata": {},
   "outputs": [],
   "source": []
  }
 ],
 "metadata": {
  "kernelspec": {
   "display_name": "Python 3",
   "language": "python",
   "name": "python3"
  },
  "language_info": {
   "codemirror_mode": {
    "name": "ipython",
    "version": 3
   },
   "file_extension": ".py",
   "mimetype": "text/x-python",
   "name": "python",
   "nbconvert_exporter": "python",
   "pygments_lexer": "ipython3",
   "version": "3.9.5"
  }
 },
 "nbformat": 4,
 "nbformat_minor": 5
}
