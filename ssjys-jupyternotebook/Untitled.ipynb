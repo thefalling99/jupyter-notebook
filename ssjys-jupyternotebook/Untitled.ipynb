{
 "cells": [
  {
   "cell_type": "code",
   "execution_count": 1,
   "id": "870279eb",
   "metadata": {},
   "outputs": [
    {
     "name": "stdout",
     "output_type": "stream",
     "text": [
      "['sepal length (cm)', 'sepal width (cm)', 'petal length (cm)', 'petal width (cm)']\n",
      "['setosa' 'versicolor' 'virginica']\n",
      "[1 2 1 0 1 2 0 2 1 0 1 2 0 0 1 0 2 0 0 0 2 1 0 1 2 1 2 1 0 2 2 2 1 0 2 1 2\n",
      " 2 0 1 2 1 0 2 2]\n",
      "[1 2 1 0 1 2 0 2 1 0 1 2 0 0 1 0 2 0 0 0 2 1 0 1 2 1 2 1 0 2 2 2 1 0 2 1 2\n",
      " 2 0 1 2 1 0 2 2]\n"
     ]
    }
   ],
   "source": [
    "import numpy as np\n",
    "from sklearn import datasets\n",
    "from sklearn.model_selection import train_test_split\n",
    "from sklearn.neighbors import KNeighborsClassifier\n",
    "\n",
    "iris=datasets.load_iris()\n",
    "x=iris.data\n",
    "y=iris.target\n",
    "\n",
    "print(iris.feature_names)\n",
    "print(iris.target_names)\n",
    "##print(y)\n",
    "\n",
    "x_train,x_test,y_train,y_test=train_test_split(x,y,test_size=0.3)\n",
    "\n",
    "knn=KNeighborsClassifier()\n",
    "knn.fit(x_train,y_train)\n",
    "print(knn.predict(x_test))\n",
    "print(y_test)\n"
   ]
  },
  {
   "cell_type": "code",
   "execution_count": 47,
   "id": "008f5000",
   "metadata": {},
   "outputs": [
    {
     "name": "stdout",
     "output_type": "stream",
     "text": [
      "[[1083.86918221]\n",
      " [1103.5732755 ]\n",
      " [1167.9791252 ]\n",
      " [ 977.36691624]\n",
      " [1070.59468886]\n",
      " [1093.33925516]\n",
      " [1064.24797127]\n",
      " [1215.18112231]\n",
      " [ 829.17158634]\n",
      " [1000.71991536]\n",
      " [1171.7528662 ]\n",
      " [ 922.53096863]]\n",
      "[[1044]\n",
      " [1186]\n",
      " [1015]\n",
      " [1038]\n",
      " [1045]\n",
      " [1151]\n",
      " [1034]\n",
      " [1321]\n",
      " [ 953]\n",
      " [ 941]\n",
      " [1057]\n",
      " [ 941]]\n"
     ]
    },
    {
     "data": {
      "image/png": "[encoded data removed]",
      "text/plain": [
       "<Figure size 432x288 with 1 Axes>"
      ]
     },
     "metadata": {
      "needs_background": "light"
     },
     "output_type": "display_data"
    },
    {
     "name": "stdout",
     "output_type": "stream",
     "text": [
      "0.3813455974391531\n"
     ]
    }
   ],
   "source": [
    "import pandas as pd\n",
    "import numpy as np\n",
    "from sklearn.model_selection import train_test_split\n",
    "from sklearn.preprocessing import PolynomialFeatures\n",
    "from sklearn import linear_model\n",
    "from sklearn import preprocessing\n",
    "import matplotlib.pyplot as plt\n",
    "\n",
    "x = pd.read_csv(r'C:\\Users\\Admin\\Desktop\\paper\\data\\klqd\\x.csv')\n",
    "y = pd.read_csv(r'C:\\Users\\Admin\\Desktop\\paper\\data\\klqd\\y.csv')\n",
    "\n",
    "x=np.array(x[:])\n",
    "y=np.array(y[:])\n",
    "\n",
    "# print(x)\n",
    "# print(x[:,0])\n",
    "\n",
    "#step=np.arange(1,46)\n",
    "\n",
    "# plt.figure(1)\n",
    "# #plt.grid()\n",
    "# plt.locator_params('x',nbins=23)\n",
    "# plt.xlim(xmin=0,xmax=45)\n",
    "# plt.plot(x[:,],\"o\")\n",
    "# plt.legend(['diameter','length','Al','V','Fe','C','N','H','O'])\n",
    "\n",
    "# plt.figure(2)\n",
    "# #plt.grid()\n",
    "# plt.locator_params('x',nbins=23)\n",
    "# plt.xlim(xmin=0,xmax=45)\n",
    "# plt.plot(y,\"o\")\n",
    "# plt.legend(['TensileStrength'])\n",
    "# plt.show()\n",
    "\n",
    "#x=preprocessing.scale(x)\n",
    "\n",
    "#x_train,x_test,y_train,y_test=train_test_split(x,y,test_size=0.1)\n",
    "x_train,x_test,y_train,y_test=train_test_split(x,y)\n",
    "\n",
    "reg = linear_model.LinearRegression()\n",
    "#poly = PolynomialFeatures(degree=4)\n",
    "#x_train=poly.fit_transform(x_train)\n",
    "#x_test=poly.transform(x_test)\n",
    "reg.fit(x_train,y_train)\n",
    "\n",
    "predict=reg.predict(x_test)\n",
    "print(predict)\n",
    "print(y_test)\n",
    "plt.figure(3)\n",
    "plt.plot(predict)\n",
    "plt.plot(y_test)\n",
    "plt.legend(['predict','actual'])\n",
    "plt.locator_params('x',nbins=5)\n",
    "plt.show()\n",
    "\n",
    "print(reg.score(x_test,y_test))"
   ]
  },
  {
   "cell_type": "code",
   "execution_count": null,
   "id": "8119a7fc",
   "metadata": {},
   "outputs": [],
   "source": []
  },
  {
   "cell_type": "code",
   "execution_count": null,
   "id": "108277da",
   "metadata": {},
   "outputs": [],
   "source": []
  },
  {
   "cell_type": "code",
   "execution_count": null,
   "id": "7a1a7ffe",
   "metadata": {},
   "outputs": [],
   "source": []
  }
 ],
 "metadata": {
  "kernelspec": {
   "display_name": "Python 3",
   "language": "python",
   "name": "python3"
  },
  "language_info": {
   "codemirror_mode": {
    "name": "ipython",
    "version": 3
   },
   "file_extension": ".py",
   "mimetype": "text/x-python",
   "name": "python",
   "nbconvert_exporter": "python",
   "pygments_lexer": "ipython3",
   "version": "3.9.5"
  }
 },
 "nbformat": 4,
 "nbformat_minor": 5
}
