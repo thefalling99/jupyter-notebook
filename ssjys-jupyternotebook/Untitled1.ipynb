{
 "cells": [
  {
   "cell_type": "code",
   "execution_count": 12,
   "id": "f7901aa5",
   "metadata": {},
   "outputs": [
    {
     "name": "stdout",
     "output_type": "stream",
     "text": [
      "tensor([[1., 1., 1.],\n",
      "        [1., 1., 1.]], requires_grad=True)\n",
      "tensor(1., grad_fn=<MeanBackward0>)\n",
      "None\n"
     ]
    },
    {
     "name": "stderr",
     "output_type": "stream",
     "text": [
      "<ipython-input-12-3cc3f7e003bc>:14: UserWarning: The .grad attribute of a Tensor that is not a leaf Tensor is being accessed. Its .grad attribute won't be populated during autograd.backward(). If you indeed want the gradient for a non-leaf Tensor, use .retain_grad() on the non-leaf Tensor. If you access the non-leaf Tensor by mistake, make sure you access the leaf Tensor instead. See github.com/pytorch/pytorch/pull/30531 for more information.\n",
      "  print(t_out.grad)\n"
     ]
    }
   ],
   "source": [
    "import torch\n",
    "from torch.autograd import Variable\n",
    "\n",
    "tensor=torch.ones((2,3),requires_grad=True)\n",
    "#variable = Variable(tensor, requires_grad=True) \n",
    "\n",
    "print(tensor)\n",
    "#print(variable)\n",
    "\n",
    "t_out = torch.mean(tensor*tensor)\n",
    "print(t_out)\n",
    "\n",
    "t_out.backward()\n",
    "print(t_out.grad)\n"
   ]
  },
  {
   "cell_type": "code",
   "execution_count": 6,
   "id": "4dca8827",
   "metadata": {},
   "outputs": [
    {
     "name": "stdout",
     "output_type": "stream",
     "text": [
      "tensor([[0., 0., 0.],\n",
      "        [0., 0., 0.]]) \n",
      "\n",
      "tensor([[[8.9082e-39, 9.8265e-39, 9.4592e-39],\n",
      "         [1.0561e-38, 1.0653e-38, 1.0469e-38]],\n",
      "\n",
      "        [[9.5510e-39, 9.0918e-39, 9.1837e-39],\n",
      "         [8.4490e-39, 8.7245e-39, 1.0102e-38]],\n",
      "\n",
      "        [[1.0653e-38, 8.7245e-39, 9.0918e-39],\n",
      "         [4.6838e-39, 4.1327e-39, 9.6429e-39]],\n",
      "\n",
      "        [[8.7245e-39, 1.0010e-38, 4.9593e-39],\n",
      "         [4.2245e-39, 1.1112e-38, 1.4013e-43]]])\n"
     ]
    },
    {
     "data": {
      "text/plain": [
       "False"
      ]
     },
     "execution_count": 6,
     "metadata": {},
     "output_type": "execute_result"
    }
   ],
   "source": [
    "import torch\n",
    "x=torch.Tensor(2,3)\n",
    "print(x,'\\n')\n",
    "y=torch.Tensor(4,2,3)\n",
    "print(y)\n"
   ]
  },
  {
   "cell_type": "code",
   "execution_count": null,
   "id": "e85294b9",
   "metadata": {},
   "outputs": [],
   "source": []
  },
  {
   "cell_type": "code",
   "execution_count": null,
   "id": "f96e4fd1",
   "metadata": {},
   "outputs": [],
   "source": []
  },
  {
   "cell_type": "code",
   "execution_count": null,
   "id": "5981327c",
   "metadata": {},
   "outputs": [],
   "source": []
  }
 ],
 "metadata": {
  "kernelspec": {
   "display_name": "Python 3",
   "language": "python",
   "name": "python3"
  },
  "language_info": {
   "codemirror_mode": {
    "name": "ipython",
    "version": 3
   },
   "file_extension": ".py",
   "mimetype": "text/x-python",
   "name": "python",
   "nbconvert_exporter": "python",
   "pygments_lexer": "ipython3",
   "version": "3.9.5"
  }
 },
 "nbformat": 4,
 "nbformat_minor": 5
}
